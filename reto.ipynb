{
 "cells": [
  {
   "cell_type": "markdown",
   "metadata": {},
   "source": [
    "Hay $N$ puntos (enumerados de 0 a $N$ − 1) en un plano. Cada punto es de color rojo (’R’) o verde (’G’). El punto k-ésimo está ubicado en las coordenadas $(X[k], Y [k])$ y su color es colors[k]. Ningún punto se encuentra en las coordenadas (0, 0).\n",
    "\n",
    "Queremos dibujar un círculo centrado en las coordenadas (0, 0), tal que el número de puntos rojos y verdes dentro del círculo sea igual. ¿Cuál es el número máximo de puntos que pueden se pueden encerrar por uno de estos círculos centrados en el origen? Tenga en cuenta que siempre es posible dibujar un círculo sin puntos en el interior.\n",
    "\n",
    "Este ejercicio consiste en escribir una función en python\n",
    "\n",
    "* def sol $(X, Y, colors)$\n",
    "\n",
    "tal que dados dos arreglos de enteros X, Y (de tamaño N) y una cadena *colors*, regresa un entero especificando el máximo número de puntos dentro de un círculo que contiene un número igual de puntos rojos y puntos verdes.\n",
    "El algoritmo debe cumplir las siguientes suposiciones:\n",
    "\n",
    "* $N$ es un entero entre 1 y 100000;\n",
    "* Cada elemento de los arreglos X y Y es un entero dentro del intervalo\n",
    "cerrado $[−20000, 20000]$;\n",
    "* El string colors consiste en solo $N$ caracteres “R” y/o “G”;\n",
    "* No hay puntos en el origen (0, 0).\n",
    "\n",
    "Dado los arreglos X = [4, 0, 2, −2], Y = [4, 1, 2, −3] y colors = ”RGRR” tu función debe regresar 2. El círculo contiene los puntos (0, 1) y (2, 2) pero no los puntos (−2, −3) y (4, 4).<br>\n",
    "\n",
    "<br>\n",
    "<div align=\"center\">\n",
    "<img src=\"imagen.png\">\n",
    "</div>\n"
   ]
  },
  {
   "cell_type": "code",
   "execution_count": 1,
   "metadata": {},
   "outputs": [],
   "source": [
    "## Una posible solución sería:\n",
    "\n",
    "def sol(X,Y, colors):\n",
    "    data = list(zip(X,Y,colors))\n",
    "    norm = [(y[0]*y[0]+y[1]*y[1], y[2]) for y in data]\n",
    "    norm.sort(key=lambda y: y[0])\n",
    "    green = 0\n",
    "    red = 0\n",
    "    last_element = 0\n",
    "    for element in norm:\n",
    "        if element[1] == 'G':\n",
    "            green += 1\n",
    "        elif element[1] == 'R':\n",
    "            red += 1\n",
    "        if green == red:\n",
    "            last_element = green + red\n",
    "    return last_element"
   ]
  },
  {
   "cell_type": "code",
   "execution_count": 2,
   "metadata": {},
   "outputs": [
    {
     "data": {
      "text/plain": [
       "2"
      ]
     },
     "execution_count": 2,
     "metadata": {},
     "output_type": "execute_result"
    }
   ],
   "source": [
    "## Ejemplo \n",
    "X = [4, 0, 2, -2]\n",
    "Y = [4, 1, 2, -3] \n",
    "colors = \"RGRR\"\n",
    "\n",
    "sol(X,Y,colors )"
   ]
  },
  {
   "cell_type": "code",
   "execution_count": null,
   "metadata": {},
   "outputs": [],
   "source": []
  }
 ],
 "metadata": {
  "kernelspec": {
   "display_name": "Python 3.9.6 64-bit (system)",
   "language": "python",
   "name": "python3"
  },
  "language_info": {
   "codemirror_mode": {
    "name": "ipython",
    "version": 3
   },
   "file_extension": ".py",
   "mimetype": "text/x-python",
   "name": "python",
   "nbconvert_exporter": "python",
   "pygments_lexer": "ipython3",
   "version": "3.9.6"
  },
  "orig_nbformat": 4,
  "vscode": {
   "interpreter": {
    "hash": "55923a6ed19f62c923f4f9446379b87364bb44c28ea18797870eef05a25fc661"
   }
  }
 },
 "nbformat": 4,
 "nbformat_minor": 2
}
